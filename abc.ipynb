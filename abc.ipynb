{
 "cells": [
  {
   "cell_type": "code",
   "execution_count": 5,
   "metadata": {},
   "outputs": [
    {
     "name": "stdout",
     "output_type": "stream",
     "text": [
      "16bc90f5-b8b9-4db1-b178-6286f80eb386\n"
     ]
    }
   ],
   "source": [
    "import qrcode\n",
    "import uuid\n",
    "\n",
    "id = uuid.uuid4()\n",
    "qr = qrcode.QRCode(version=1, box_size=10, border=5)\n",
    "qr.add_data(id)\n",
    "qr.make(fit=True)\n",
    "img = qr.make_image(fill_color=\"black\", back_color=\"white\")\n",
    "img.save('sample.jpg')\n",
    "print(id)"
   ]
  },
  {
   "cell_type": "code",
   "execution_count": 3,
   "metadata": {},
   "outputs": [
    {
     "data": {
      "text/plain": [
       "'16bc90f5-b8b9-4db1-b178-6286f80eb386'"
      ]
     },
     "execution_count": 3,
     "metadata": {},
     "output_type": "execute_result"
    }
   ],
   "source": [
    "import cv2\n",
    "from pyzbar import pyzbar\n",
    "\n",
    "\n",
    "image = cv2.imread(\"sample.jpg\")\n",
    "decoded_data = pyzbar.decode(image)\n",
    "decoded_data[0]\n",
    "\n",
    "decoded_data[0].data.decode(\"utf-8\")"
   ]
  },
  {
   "cell_type": "code",
   "execution_count": null,
   "metadata": {},
   "outputs": [],
   "source": []
  }
 ],
 "metadata": {
  "kernelspec": {
   "display_name": "base",
   "language": "python",
   "name": "python3"
  },
  "language_info": {
   "codemirror_mode": {
    "name": "ipython",
    "version": 3
   },
   "file_extension": ".py",
   "mimetype": "text/x-python",
   "name": "python",
   "nbconvert_exporter": "python",
   "pygments_lexer": "ipython3",
   "version": "3.8.8"
  },
  "orig_nbformat": 4,
  "vscode": {
   "interpreter": {
    "hash": "0d36738efb02b46f2291bc18f32076806b70360f2bce5d987cd2b90be755e1b9"
   }
  }
 },
 "nbformat": 4,
 "nbformat_minor": 2
}
