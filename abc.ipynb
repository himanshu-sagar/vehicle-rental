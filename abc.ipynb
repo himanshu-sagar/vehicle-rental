{
 "cells": [
  {
   "cell_type": "code",
   "execution_count": 5,
   "metadata": {},
   "outputs": [
    {
     "name": "stdout",
     "output_type": "stream",
     "text": [
      "16bc90f5-b8b9-4db1-b178-6286f80eb386\n"
     ]
    }
   ],
   "source": [
    "import qrcode\n",
    "import uuid\n",
    "\n",
    "id = uuid.uuid4()\n",
    "qr = qrcode.QRCode(version=1, box_size=10, border=5)\n",
    "qr.add_data(id)\n",
    "qr.make(fit=True)\n",
    "img = qr.make_image(fill_color=\"black\", back_color=\"white\")\n",
    "img.save('sample.jpg')\n",
    "print(id)"
   ]
  },
  {
   "cell_type": "code",
   "execution_count": 9,
   "metadata": {},
   "outputs": [
    {
     "name": "stdout",
     "output_type": "stream",
     "text": [
      "[Decoded(data=b'16bc90f5-b8b9-4db1-b178-6286f80eb386', type='QRCODE', rect=Rect(left=49, top=49, width=292, height=292), polygon=[Point(x=49, y=49), Point(x=49, y=340), Point(x=341, y=341), Point(x=340, y=49)], quality=1, orientation='UP')]\n",
      "16bc90f5-b8b9-4db1-b178-6286f80eb386\n"
     ]
    }
   ],
   "source": [
    "import cv2\n",
    "from pyzbar import pyzbar\n",
    "\n",
    "\n",
    "image = cv2.imread(\"sample.jpg\")\n",
    "decoded_data = pyzbar.decode(image)\n",
    "print(decoded_data)\n",
    "for d in decoded_data:\n",
    "    print(d.data.decode(\"utf-8\"))"
   ]
  },
  {
   "cell_type": "code",
   "execution_count": null,
   "metadata": {},
   "outputs": [],
   "source": []
  }
 ],
 "metadata": {
  "kernelspec": {
   "display_name": "base",
   "language": "python",
   "name": "python3"
  },
  "language_info": {
   "codemirror_mode": {
    "name": "ipython",
    "version": 3
   },
   "file_extension": ".py",
   "mimetype": "text/x-python",
   "name": "python",
   "nbconvert_exporter": "python",
   "pygments_lexer": "ipython3",
   "version": "3.8.8"
  },
  "orig_nbformat": 4,
  "vscode": {
   "interpreter": {
    "hash": "0d36738efb02b46f2291bc18f32076806b70360f2bce5d987cd2b90be755e1b9"
   }
  }
 },
 "nbformat": 4,
 "nbformat_minor": 2
}
